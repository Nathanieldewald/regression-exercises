{
 "cells": [
  {
   "cell_type": "markdown",
   "source": [
    "# 1.Load your zillow dataset."
   ],
   "metadata": {
    "collapsed": false
   }
  },
  {
   "cell_type": "code",
   "execution_count": 24,
   "outputs": [],
   "source": [
    "#imports\n",
    "import pandas as pd\n",
    "import numpy as np\n",
    "import matplotlib.pyplot as plt\n",
    "\n",
    "import explore\n",
    "import wrangle as w\n",
    "import seaborn as sns\n",
    "from sklearn.linear_model import LinearRegression\n",
    "from sklearn.metrics import mean_squared_error, r2_score, explained_variance_score\n",
    "from sklearn.feature_selection import f_regression\n",
    "from math import sqrt\n",
    "from scipy import stats\n",
    "import warnings\n",
    "warnings.filterwarnings(\"ignore\")\n",
    "import explore as e\n",
    "import matplotlib as mpl\n",
    "mpl.rcParams['agg.path.chunksize'] = 10000"
   ],
   "metadata": {
    "collapsed": false,
    "ExecuteTime": {
     "start_time": "2023-05-10T12:01:46.379444Z",
     "end_time": "2023-05-10T12:01:46.386307Z"
    }
   }
  },
  {
   "cell_type": "markdown",
   "source": [
    "# Acquire data"
   ],
   "metadata": {
    "collapsed": false
   }
  },
  {
   "cell_type": "code",
   "execution_count": 25,
   "outputs": [
    {
     "data": {
      "text/plain": "         bedrooms  bathrooms    area  taxvalue  yearbuilt  taxamount  county  \\\n4             4.0        2.0  3633.0  296425.0     2005.0    6941.39      LA   \n6             3.0        4.0  1620.0  847770.0     2011.0   10244.94      LA   \n7             3.0        2.0  2077.0  646760.0     1926.0    7924.68      LA   \n11            0.0        0.0  1200.0    5328.0     1972.0      91.60      LA   \n14            0.0        0.0   171.0    6920.0     1973.0     255.17      LA   \n...           ...        ...     ...       ...        ...        ...     ...   \n2152856       4.0        4.0  4375.0  422400.0     2015.0   13877.56      LA   \n2152858       4.0        3.0  2262.0  960756.0     2015.0   13494.52  Orange   \n2152859       4.0        4.5  3127.0  536061.0     2014.0    6244.16  Orange   \n2152861       3.0        2.5  1974.0  424353.0     2015.0    5302.70  Orange   \n2152862       4.0        4.0  2110.0  554009.0     2014.0    6761.20      LA   \n\n         tax_rate  price_per_sqft   age  \n4        0.023417       81.592348  12.0  \n6        0.012085      523.314815   6.0  \n7        0.012253      311.391430  91.0  \n11       0.017192        4.440000  45.0  \n14       0.036874       40.467836  44.0  \n...           ...             ...   ...  \n2152856  0.032854       96.548571   2.0  \n2152858  0.014046      424.737401   2.0  \n2152859  0.011648      171.429805   3.0  \n2152861  0.012496      214.971125   2.0  \n2152862  0.012204      262.563507   3.0  \n\n[2140235 rows x 10 columns]",
      "text/html": "<div>\n<style scoped>\n    .dataframe tbody tr th:only-of-type {\n        vertical-align: middle;\n    }\n\n    .dataframe tbody tr th {\n        vertical-align: top;\n    }\n\n    .dataframe thead th {\n        text-align: right;\n    }\n</style>\n<table border=\"1\" class=\"dataframe\">\n  <thead>\n    <tr style=\"text-align: right;\">\n      <th></th>\n      <th>bedrooms</th>\n      <th>bathrooms</th>\n      <th>area</th>\n      <th>taxvalue</th>\n      <th>yearbuilt</th>\n      <th>taxamount</th>\n      <th>county</th>\n      <th>tax_rate</th>\n      <th>price_per_sqft</th>\n      <th>age</th>\n    </tr>\n  </thead>\n  <tbody>\n    <tr>\n      <th>4</th>\n      <td>4.0</td>\n      <td>2.0</td>\n      <td>3633.0</td>\n      <td>296425.0</td>\n      <td>2005.0</td>\n      <td>6941.39</td>\n      <td>LA</td>\n      <td>0.023417</td>\n      <td>81.592348</td>\n      <td>12.0</td>\n    </tr>\n    <tr>\n      <th>6</th>\n      <td>3.0</td>\n      <td>4.0</td>\n      <td>1620.0</td>\n      <td>847770.0</td>\n      <td>2011.0</td>\n      <td>10244.94</td>\n      <td>LA</td>\n      <td>0.012085</td>\n      <td>523.314815</td>\n      <td>6.0</td>\n    </tr>\n    <tr>\n      <th>7</th>\n      <td>3.0</td>\n      <td>2.0</td>\n      <td>2077.0</td>\n      <td>646760.0</td>\n      <td>1926.0</td>\n      <td>7924.68</td>\n      <td>LA</td>\n      <td>0.012253</td>\n      <td>311.391430</td>\n      <td>91.0</td>\n    </tr>\n    <tr>\n      <th>11</th>\n      <td>0.0</td>\n      <td>0.0</td>\n      <td>1200.0</td>\n      <td>5328.0</td>\n      <td>1972.0</td>\n      <td>91.60</td>\n      <td>LA</td>\n      <td>0.017192</td>\n      <td>4.440000</td>\n      <td>45.0</td>\n    </tr>\n    <tr>\n      <th>14</th>\n      <td>0.0</td>\n      <td>0.0</td>\n      <td>171.0</td>\n      <td>6920.0</td>\n      <td>1973.0</td>\n      <td>255.17</td>\n      <td>LA</td>\n      <td>0.036874</td>\n      <td>40.467836</td>\n      <td>44.0</td>\n    </tr>\n    <tr>\n      <th>...</th>\n      <td>...</td>\n      <td>...</td>\n      <td>...</td>\n      <td>...</td>\n      <td>...</td>\n      <td>...</td>\n      <td>...</td>\n      <td>...</td>\n      <td>...</td>\n      <td>...</td>\n    </tr>\n    <tr>\n      <th>2152856</th>\n      <td>4.0</td>\n      <td>4.0</td>\n      <td>4375.0</td>\n      <td>422400.0</td>\n      <td>2015.0</td>\n      <td>13877.56</td>\n      <td>LA</td>\n      <td>0.032854</td>\n      <td>96.548571</td>\n      <td>2.0</td>\n    </tr>\n    <tr>\n      <th>2152858</th>\n      <td>4.0</td>\n      <td>3.0</td>\n      <td>2262.0</td>\n      <td>960756.0</td>\n      <td>2015.0</td>\n      <td>13494.52</td>\n      <td>Orange</td>\n      <td>0.014046</td>\n      <td>424.737401</td>\n      <td>2.0</td>\n    </tr>\n    <tr>\n      <th>2152859</th>\n      <td>4.0</td>\n      <td>4.5</td>\n      <td>3127.0</td>\n      <td>536061.0</td>\n      <td>2014.0</td>\n      <td>6244.16</td>\n      <td>Orange</td>\n      <td>0.011648</td>\n      <td>171.429805</td>\n      <td>3.0</td>\n    </tr>\n    <tr>\n      <th>2152861</th>\n      <td>3.0</td>\n      <td>2.5</td>\n      <td>1974.0</td>\n      <td>424353.0</td>\n      <td>2015.0</td>\n      <td>5302.70</td>\n      <td>Orange</td>\n      <td>0.012496</td>\n      <td>214.971125</td>\n      <td>2.0</td>\n    </tr>\n    <tr>\n      <th>2152862</th>\n      <td>4.0</td>\n      <td>4.0</td>\n      <td>2110.0</td>\n      <td>554009.0</td>\n      <td>2014.0</td>\n      <td>6761.20</td>\n      <td>LA</td>\n      <td>0.012204</td>\n      <td>262.563507</td>\n      <td>3.0</td>\n    </tr>\n  </tbody>\n</table>\n<p>2140235 rows × 10 columns</p>\n</div>"
     },
     "execution_count": 25,
     "metadata": {},
     "output_type": "execute_result"
    }
   ],
   "source": [
    "df = w.get_zillow_data()\n",
    "df"
   ],
   "metadata": {
    "collapsed": false,
    "ExecuteTime": {
     "start_time": "2023-05-10T12:01:47.418914Z",
     "end_time": "2023-05-10T12:01:48.068946Z"
    }
   }
  },
  {
   "cell_type": "markdown",
   "source": [
    "# Prepare data"
   ],
   "metadata": {
    "collapsed": false
   }
  },
  {
   "cell_type": "code",
   "execution_count": 26,
   "outputs": [
    {
     "data": {
      "text/plain": "           bedrooms     bathrooms          area      taxvalue     yearbuilt  \\\ncount  1.214718e+06  1.214718e+06  1.214718e+06  1.214718e+06  1.214718e+06   \nmean   3.283025e+00  2.187977e+00  1.797768e+03  3.963180e+05  1.960722e+03   \nstd    8.918959e-01  8.624930e-01  7.599109e+02  2.933902e+05  2.171821e+01   \nmin    0.000000e+00  0.000000e+00  2.000000e+01  5.490000e+02  1.865000e+03   \n25%    3.000000e+00  2.000000e+00  1.260000e+03  1.930692e+05  1.949000e+03   \n50%    3.000000e+00  2.000000e+00  1.615000e+03  3.263185e+05  1.958000e+03   \n75%    4.000000e+00  3.000000e+00  2.162000e+03  5.170052e+05  1.975000e+03   \nmax    7.000000e+00  6.500000e+00  5.964000e+03  1.887497e+06  2.016000e+03   \n\n          taxamount      tax_rate  price_per_sqft           age  \ncount  1.214718e+06  1.214718e+06    1.214718e+06  1.214718e+06  \nmean   4.844790e+03  1.287139e-02    2.221708e+02  5.627804e+01  \nstd    3.372512e+03  1.987959e-03    1.339147e+02  2.171821e+01  \nmin    6.340000e+00  4.345669e-03    2.016225e+00  1.000000e+00  \n25%    2.566823e+03  1.174083e-02    1.284174e+02  4.200000e+01  \n50%    4.059190e+03  1.238818e-02    2.019985e+02  5.900000e+01  \n75%    6.174760e+03  1.346824e-02    2.943400e+02  6.800000e+01  \nmax    2.092198e+04  2.103304e-02    9.608401e+02  1.520000e+02  ",
      "text/html": "<div>\n<style scoped>\n    .dataframe tbody tr th:only-of-type {\n        vertical-align: middle;\n    }\n\n    .dataframe tbody tr th {\n        vertical-align: top;\n    }\n\n    .dataframe thead th {\n        text-align: right;\n    }\n</style>\n<table border=\"1\" class=\"dataframe\">\n  <thead>\n    <tr style=\"text-align: right;\">\n      <th></th>\n      <th>bedrooms</th>\n      <th>bathrooms</th>\n      <th>area</th>\n      <th>taxvalue</th>\n      <th>yearbuilt</th>\n      <th>taxamount</th>\n      <th>tax_rate</th>\n      <th>price_per_sqft</th>\n      <th>age</th>\n    </tr>\n  </thead>\n  <tbody>\n    <tr>\n      <th>count</th>\n      <td>1.214718e+06</td>\n      <td>1.214718e+06</td>\n      <td>1.214718e+06</td>\n      <td>1.214718e+06</td>\n      <td>1.214718e+06</td>\n      <td>1.214718e+06</td>\n      <td>1.214718e+06</td>\n      <td>1.214718e+06</td>\n      <td>1.214718e+06</td>\n    </tr>\n    <tr>\n      <th>mean</th>\n      <td>3.283025e+00</td>\n      <td>2.187977e+00</td>\n      <td>1.797768e+03</td>\n      <td>3.963180e+05</td>\n      <td>1.960722e+03</td>\n      <td>4.844790e+03</td>\n      <td>1.287139e-02</td>\n      <td>2.221708e+02</td>\n      <td>5.627804e+01</td>\n    </tr>\n    <tr>\n      <th>std</th>\n      <td>8.918959e-01</td>\n      <td>8.624930e-01</td>\n      <td>7.599109e+02</td>\n      <td>2.933902e+05</td>\n      <td>2.171821e+01</td>\n      <td>3.372512e+03</td>\n      <td>1.987959e-03</td>\n      <td>1.339147e+02</td>\n      <td>2.171821e+01</td>\n    </tr>\n    <tr>\n      <th>min</th>\n      <td>0.000000e+00</td>\n      <td>0.000000e+00</td>\n      <td>2.000000e+01</td>\n      <td>5.490000e+02</td>\n      <td>1.865000e+03</td>\n      <td>6.340000e+00</td>\n      <td>4.345669e-03</td>\n      <td>2.016225e+00</td>\n      <td>1.000000e+00</td>\n    </tr>\n    <tr>\n      <th>25%</th>\n      <td>3.000000e+00</td>\n      <td>2.000000e+00</td>\n      <td>1.260000e+03</td>\n      <td>1.930692e+05</td>\n      <td>1.949000e+03</td>\n      <td>2.566823e+03</td>\n      <td>1.174083e-02</td>\n      <td>1.284174e+02</td>\n      <td>4.200000e+01</td>\n    </tr>\n    <tr>\n      <th>50%</th>\n      <td>3.000000e+00</td>\n      <td>2.000000e+00</td>\n      <td>1.615000e+03</td>\n      <td>3.263185e+05</td>\n      <td>1.958000e+03</td>\n      <td>4.059190e+03</td>\n      <td>1.238818e-02</td>\n      <td>2.019985e+02</td>\n      <td>5.900000e+01</td>\n    </tr>\n    <tr>\n      <th>75%</th>\n      <td>4.000000e+00</td>\n      <td>3.000000e+00</td>\n      <td>2.162000e+03</td>\n      <td>5.170052e+05</td>\n      <td>1.975000e+03</td>\n      <td>6.174760e+03</td>\n      <td>1.346824e-02</td>\n      <td>2.943400e+02</td>\n      <td>6.800000e+01</td>\n    </tr>\n    <tr>\n      <th>max</th>\n      <td>7.000000e+00</td>\n      <td>6.500000e+00</td>\n      <td>5.964000e+03</td>\n      <td>1.887497e+06</td>\n      <td>2.016000e+03</td>\n      <td>2.092198e+04</td>\n      <td>2.103304e-02</td>\n      <td>9.608401e+02</td>\n      <td>1.520000e+02</td>\n    </tr>\n  </tbody>\n</table>\n</div>"
     },
     "execution_count": 26,
     "metadata": {},
     "output_type": "execute_result"
    }
   ],
   "source": [
    "train, validate, test, train_scaled, validate_scaled, test_scaled = e.zillow_prepared(df)\n",
    "train.describe()"
   ],
   "metadata": {
    "collapsed": false,
    "ExecuteTime": {
     "start_time": "2023-05-10T12:01:49.328620Z",
     "end_time": "2023-05-10T12:01:50.683068Z"
    }
   }
  },
  {
   "cell_type": "markdown",
   "source": [
    "\n",
    "# 2.Fit a linear regression model (ordinary least squares) and compute yhat, predictions of taxvaluedollarcnt using only calculatedfinishedsqft.\n",
    "\n",
    "* Here is some sample code to get you started:\n",
    "\n",
    "\n",
    "* from sklearn.linear_model import LinearRegression\n",
    "\n",
    " * assuming X and y are already defined\n",
    " * model = LinearRegression().fit(X, y)\n",
    " * predictions = model.predict(X)\n",
    "* Modify and add to the code above as necessary for it to work with the zillow dataset."
   ],
   "metadata": {
    "collapsed": false
   }
  },
  {
   "cell_type": "code",
   "execution_count": 27,
   "outputs": [],
   "source": [
    "# create the model object\n",
    "X = train_scaled[['area']]\n",
    "y = train_scaled[['taxvalue']]\n",
    "model = LinearRegression().fit(X, y)"
   ],
   "metadata": {
    "collapsed": false,
    "ExecuteTime": {
     "start_time": "2023-05-10T12:01:50.918069Z",
     "end_time": "2023-05-10T12:01:50.976298Z"
    }
   }
  },
  {
   "cell_type": "code",
   "execution_count": 28,
   "outputs": [],
   "source": [
    "# make predictions\n",
    "predictions = model.predict(X)"
   ],
   "metadata": {
    "collapsed": false,
    "ExecuteTime": {
     "start_time": "2023-05-10T12:01:52.006054Z",
     "end_time": "2023-05-10T12:01:52.013558Z"
    }
   }
  },
  {
   "cell_type": "markdown",
   "source": [
    "\n",
    "# 3.Plot the residuals for the linear regression model that you made."
   ],
   "metadata": {
    "collapsed": false
   }
  },
  {
   "cell_type": "code",
   "execution_count": 38,
   "outputs": [],
   "source": [
    "# baseline prediction\n",
    "baseline = train_scaled.taxvalue.mean()\n",
    "\n",
    "\n"
   ],
   "metadata": {
    "collapsed": false,
    "ExecuteTime": {
     "start_time": "2023-05-10T12:10:49.802722Z",
     "end_time": "2023-05-10T12:10:49.821580Z"
    }
   }
  },
  {
   "cell_type": "code",
   "execution_count": 39,
   "outputs": [
    {
     "ename": "AttributeError",
     "evalue": "'DataFrame' object has no attribute 'yhat'",
     "output_type": "error",
     "traceback": [
      "\u001B[0;31m---------------------------------------------------------------------------\u001B[0m",
      "\u001B[0;31mAttributeError\u001B[0m                            Traceback (most recent call last)",
      "Cell \u001B[0;32mIn[39], line 7\u001B[0m\n\u001B[1;32m      4\u001B[0m plt\u001B[38;5;241m.\u001B[39mscatter(train\u001B[38;5;241m.\u001B[39mtaxvalue, train\u001B[38;5;241m.\u001B[39marea)\n\u001B[1;32m      6\u001B[0m \u001B[38;5;66;03m#lineplot is my regression line\u001B[39;00m\n\u001B[0;32m----> 7\u001B[0m plt\u001B[38;5;241m.\u001B[39mplot(train\u001B[38;5;241m.\u001B[39mtaxvalue, \u001B[43mtrain\u001B[49m\u001B[38;5;241;43m.\u001B[39;49m\u001B[43myhat\u001B[49m, color\u001B[38;5;241m=\u001B[39m\u001B[38;5;124m'\u001B[39m\u001B[38;5;124mred\u001B[39m\u001B[38;5;124m'\u001B[39m, linewidth\u001B[38;5;241m=\u001B[39m\u001B[38;5;241m2\u001B[39m)\n\u001B[1;32m      8\u001B[0m plt\u001B[38;5;241m.\u001B[39maxhline(baseline, ls\u001B[38;5;241m=\u001B[39m\u001B[38;5;124m'\u001B[39m\u001B[38;5;124m:\u001B[39m\u001B[38;5;124m'\u001B[39m, color\u001B[38;5;241m=\u001B[39m\u001B[38;5;124m'\u001B[39m\u001B[38;5;124mred\u001B[39m\u001B[38;5;124m'\u001B[39m)\n\u001B[1;32m      9\u001B[0m plt\u001B[38;5;241m.\u001B[39mxlabel(\u001B[38;5;124m'\u001B[39m\u001B[38;5;124mx = taxvalue\u001B[39m\u001B[38;5;124m'\u001B[39m)\n",
      "File \u001B[0;32m~/anaconda3/lib/python3.10/site-packages/pandas/core/generic.py:5902\u001B[0m, in \u001B[0;36mNDFrame.__getattr__\u001B[0;34m(self, name)\u001B[0m\n\u001B[1;32m   5895\u001B[0m \u001B[38;5;28;01mif\u001B[39;00m (\n\u001B[1;32m   5896\u001B[0m     name \u001B[38;5;129;01mnot\u001B[39;00m \u001B[38;5;129;01min\u001B[39;00m \u001B[38;5;28mself\u001B[39m\u001B[38;5;241m.\u001B[39m_internal_names_set\n\u001B[1;32m   5897\u001B[0m     \u001B[38;5;129;01mand\u001B[39;00m name \u001B[38;5;129;01mnot\u001B[39;00m \u001B[38;5;129;01min\u001B[39;00m \u001B[38;5;28mself\u001B[39m\u001B[38;5;241m.\u001B[39m_metadata\n\u001B[1;32m   5898\u001B[0m     \u001B[38;5;129;01mand\u001B[39;00m name \u001B[38;5;129;01mnot\u001B[39;00m \u001B[38;5;129;01min\u001B[39;00m \u001B[38;5;28mself\u001B[39m\u001B[38;5;241m.\u001B[39m_accessors\n\u001B[1;32m   5899\u001B[0m     \u001B[38;5;129;01mand\u001B[39;00m \u001B[38;5;28mself\u001B[39m\u001B[38;5;241m.\u001B[39m_info_axis\u001B[38;5;241m.\u001B[39m_can_hold_identifiers_and_holds_name(name)\n\u001B[1;32m   5900\u001B[0m ):\n\u001B[1;32m   5901\u001B[0m     \u001B[38;5;28;01mreturn\u001B[39;00m \u001B[38;5;28mself\u001B[39m[name]\n\u001B[0;32m-> 5902\u001B[0m \u001B[38;5;28;01mreturn\u001B[39;00m \u001B[38;5;28;43mobject\u001B[39;49m\u001B[38;5;241;43m.\u001B[39;49m\u001B[38;5;21;43m__getattribute__\u001B[39;49m\u001B[43m(\u001B[49m\u001B[38;5;28;43mself\u001B[39;49m\u001B[43m,\u001B[49m\u001B[43m \u001B[49m\u001B[43mname\u001B[49m\u001B[43m)\u001B[49m\n",
      "\u001B[0;31mAttributeError\u001B[0m: 'DataFrame' object has no attribute 'yhat'"
     ]
    },
    {
     "data": {
      "text/plain": "<Figure size 640x480 with 1 Axes>",
      "image/png": "[encoded data removed]"
     },
     "metadata": {},
     "output_type": "display_data"
    }
   ],
   "source": [
    "# visualize the line of best fit from OLS linear model\n",
    "\n",
    "#scatter is my actuals\n",
    "plt.scatter(train.taxvalue, train.area)\n",
    "\n",
    "#lineplot is my regression line\n",
    "plt.plot(train.taxvalue, train.yhat, color='red', linewidth=2)\n",
    "plt.axhline(baseline, ls=':', color='red')\n",
    "plt.xlabel('x = taxvalue')\n",
    "plt.ylabel('y = area')\n",
    "plt.title('OLS linear model')\n",
    "plt.show()\n",
    "\n",
    "\n"
   ],
   "metadata": {
    "collapsed": false,
    "ExecuteTime": {
     "start_time": "2023-05-10T12:08:03.374650Z",
     "end_time": "2023-05-10T12:08:04.450450Z"
    }
   }
  },
  {
   "cell_type": "markdown",
   "source": [
    "\n",
    "Calculate the sum of squared errors, explained sum of squares, total sum of squares, mean squared error, and root mean squared error for your model.\n",
    "\n",
    "Calculate the sum of squared errors, mean squared error, and root mean squared error for the baseline model (i.e. a model that always predicts the average taxvaluedollarcnt amount).\n",
    "\n",
    "Write python code that compares the sum of squared errors for your model against the sum of squared errors for the baseline model and outputs whether or not your model performs better than the baseline model.\n",
    "\n",
    "What is the amount of variance explained in your model?\n",
    "\n",
    "Is your model better than the baseline model?\n",
    "\n",
    "Create a file named evaluate.py that contains the following functions.\n",
    "\n",
    "plot_residuals(y, yhat): creates a residual plot\n",
    "regression_errors(y, yhat): returns the following values:\n",
    "sum of squared errors (SSE)\n",
    "explained sum of squares (ESS)\n",
    "total sum of squares (TSS)\n",
    "mean squared error (MSE)\n",
    "root mean squared error (RMSE)\n",
    "baseline_mean_errors(y): computes the SSE, MSE, and RMSE for the baseline model\n",
    "better_than_baseline(y, yhat): returns true if your model performs better than the baseline, otherwise false"
   ],
   "metadata": {
    "collapsed": false
   }
  },
  {
   "cell_type": "code",
   "execution_count": null,
   "outputs": [],
   "source": [],
   "metadata": {
    "collapsed": false,
    "ExecuteTime": {
     "start_time": "2023-05-10T11:43:14.464839Z",
     "end_time": "2023-05-10T11:43:15.503278Z"
    }
   }
  }
 ],
 "metadata": {
  "kernelspec": {
   "display_name": "Python 3",
   "language": "python",
   "name": "python3"
  },
  "language_info": {
   "codemirror_mode": {
    "name": "ipython",
    "version": 2
   },
   "file_extension": ".py",
   "mimetype": "text/x-python",
   "name": "python",
   "nbconvert_exporter": "python",
   "pygments_lexer": "ipython2",
   "version": "2.7.6"
  }
 },
 "nbformat": 4,
 "nbformat_minor": 0
}
