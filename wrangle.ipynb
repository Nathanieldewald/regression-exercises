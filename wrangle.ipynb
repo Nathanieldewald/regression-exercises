{
 "cells": [
  {
   "cell_type": "markdown",
   "source": [
    "# Imports\n",
    "\n",
    "\n"
   ],
   "metadata": {
    "collapsed": false
   }
  },
  {
   "cell_type": "code",
   "execution_count": 1,
   "outputs": [],
   "source": [
    "import numpy as np\n",
    "import pandas as pd\n",
    "import matplotlib.pyplot as plt\n",
    "import seaborn as sns\n",
    "import wrangle as w"
   ],
   "metadata": {
    "collapsed": false,
    "ExecuteTime": {
     "start_time": "2023-05-05T13:26:55.248176Z",
     "end_time": "2023-05-05T13:26:55.323768Z"
    }
   }
  },
  {
   "cell_type": "markdown",
   "source": [
    "# Acquire Data\n",
    "* Acquire bedroomcnt, bathroomcnt, calculatedfinishedsquarefeet, taxvaluedollarcnt, yearbuilt, taxamount, and fips from the zillow database for all 'Single Family Residential' properties."
   ],
   "metadata": {
    "collapsed": false
   }
  },
  {
   "cell_type": "code",
   "execution_count": 2,
   "outputs": [],
   "source": [
    "df = w.get_zillow_data()"
   ],
   "metadata": {
    "collapsed": false,
    "ExecuteTime": {
     "start_time": "2023-05-05T13:26:55.323903Z",
     "end_time": "2023-05-05T13:26:55.814008Z"
    }
   }
  },
  {
   "cell_type": "code",
   "execution_count": 3,
   "outputs": [
    {
     "data": {
      "text/plain": "   bedroomcnt  bathroomcnt  calculatedfinishedsquarefeet  taxvaluedollarcnt  \\\n0         0.0          0.0                           NaN            27516.0   \n1         0.0          0.0                           NaN               10.0   \n2         0.0          0.0                           NaN               10.0   \n3         0.0          0.0                           NaN             2108.0   \n4         4.0          2.0                        3633.0           296425.0   \n\n   yearbuilt  taxamount    fips  \n0        NaN        NaN  6037.0  \n1        NaN        NaN  6037.0  \n2        NaN        NaN  6037.0  \n3        NaN     174.21  6037.0  \n4     2005.0    6941.39  6037.0  ",
      "text/html": "<div>\n<style scoped>\n    .dataframe tbody tr th:only-of-type {\n        vertical-align: middle;\n    }\n\n    .dataframe tbody tr th {\n        vertical-align: top;\n    }\n\n    .dataframe thead th {\n        text-align: right;\n    }\n</style>\n<table border=\"1\" class=\"dataframe\">\n  <thead>\n    <tr style=\"text-align: right;\">\n      <th></th>\n      <th>bedroomcnt</th>\n      <th>bathroomcnt</th>\n      <th>calculatedfinishedsquarefeet</th>\n      <th>taxvaluedollarcnt</th>\n      <th>yearbuilt</th>\n      <th>taxamount</th>\n      <th>fips</th>\n    </tr>\n  </thead>\n  <tbody>\n    <tr>\n      <th>0</th>\n      <td>0.0</td>\n      <td>0.0</td>\n      <td>NaN</td>\n      <td>27516.0</td>\n      <td>NaN</td>\n      <td>NaN</td>\n      <td>6037.0</td>\n    </tr>\n    <tr>\n      <th>1</th>\n      <td>0.0</td>\n      <td>0.0</td>\n      <td>NaN</td>\n      <td>10.0</td>\n      <td>NaN</td>\n      <td>NaN</td>\n      <td>6037.0</td>\n    </tr>\n    <tr>\n      <th>2</th>\n      <td>0.0</td>\n      <td>0.0</td>\n      <td>NaN</td>\n      <td>10.0</td>\n      <td>NaN</td>\n      <td>NaN</td>\n      <td>6037.0</td>\n    </tr>\n    <tr>\n      <th>3</th>\n      <td>0.0</td>\n      <td>0.0</td>\n      <td>NaN</td>\n      <td>2108.0</td>\n      <td>NaN</td>\n      <td>174.21</td>\n      <td>6037.0</td>\n    </tr>\n    <tr>\n      <th>4</th>\n      <td>4.0</td>\n      <td>2.0</td>\n      <td>3633.0</td>\n      <td>296425.0</td>\n      <td>2005.0</td>\n      <td>6941.39</td>\n      <td>6037.0</td>\n    </tr>\n  </tbody>\n</table>\n</div>"
     },
     "execution_count": 3,
     "metadata": {},
     "output_type": "execute_result"
    }
   ],
   "source": [
    "df.head()"
   ],
   "metadata": {
    "collapsed": false,
    "ExecuteTime": {
     "start_time": "2023-05-05T13:26:55.815792Z",
     "end_time": "2023-05-05T13:26:55.821587Z"
    }
   }
  },
  {
   "cell_type": "markdown",
   "source": [
    "# Prepare Data"
   ],
   "metadata": {
    "collapsed": false
   }
  },
  {
   "cell_type": "code",
   "execution_count": 4,
   "outputs": [
    {
     "name": "stdout",
     "output_type": "stream",
     "text": [
      "<class 'pandas.core.frame.DataFrame'>\n",
      "Int64Index: 2152863 entries, 0 to 2152862\n",
      "Data columns (total 7 columns):\n",
      " #   Column                        Dtype  \n",
      "---  ------                        -----  \n",
      " 0   bedroomcnt                    float64\n",
      " 1   bathroomcnt                   float64\n",
      " 2   calculatedfinishedsquarefeet  float64\n",
      " 3   taxvaluedollarcnt             float64\n",
      " 4   yearbuilt                     float64\n",
      " 5   taxamount                     float64\n",
      " 6   fips                          float64\n",
      "dtypes: float64(7)\n",
      "memory usage: 131.4 MB\n"
     ]
    }
   ],
   "source": [
    "df.info()"
   ],
   "metadata": {
    "collapsed": false,
    "ExecuteTime": {
     "start_time": "2023-05-05T13:26:55.823974Z",
     "end_time": "2023-05-05T13:26:55.825891Z"
    }
   }
  },
  {
   "cell_type": "code",
   "execution_count": 5,
   "outputs": [
    {
     "data": {
      "text/plain": "         bedroomcnt   bathroomcnt  calculatedfinishedsquarefeet  \\\ncount  2.152852e+06  2.152852e+06                  2.144379e+06   \nmean   3.287196e+00  2.230688e+00                  1.862855e+03   \nstd    9.547544e-01  9.992796e-01                  1.222125e+03   \nmin    0.000000e+00  0.000000e+00                  1.000000e+00   \n25%    3.000000e+00  2.000000e+00                  1.257000e+03   \n50%    3.000000e+00  2.000000e+00                  1.623000e+03   \n75%    4.000000e+00  3.000000e+00                  2.208000e+03   \nmax    2.500000e+01  3.200000e+01                  9.525760e+05   \n\n       taxvaluedollarcnt     yearbuilt     taxamount          fips  \ncount       2.152370e+06  2.143526e+06  2.148421e+06  2.152863e+06  \nmean        4.618962e+05  1.960950e+03  5.634866e+03  6.048377e+03  \nstd         6.996760e+05  2.216220e+01  8.178910e+03  2.043329e+01  \nmin         1.000000e+00  1.801000e+03  1.850000e+00  6.037000e+03  \n25%         1.881702e+05  1.949000e+03  2.534980e+03  6.037000e+03  \n50%         3.276710e+05  1.958000e+03  4.108950e+03  6.037000e+03  \n75%         5.345270e+05  1.976000e+03  6.414320e+03  6.059000e+03  \nmax         9.842891e+07  2.016000e+03  1.337756e+06  6.111000e+03  ",
      "text/html": "<div>\n<style scoped>\n    .dataframe tbody tr th:only-of-type {\n        vertical-align: middle;\n    }\n\n    .dataframe tbody tr th {\n        vertical-align: top;\n    }\n\n    .dataframe thead th {\n        text-align: right;\n    }\n</style>\n<table border=\"1\" class=\"dataframe\">\n  <thead>\n    <tr style=\"text-align: right;\">\n      <th></th>\n      <th>bedroomcnt</th>\n      <th>bathroomcnt</th>\n      <th>calculatedfinishedsquarefeet</th>\n      <th>taxvaluedollarcnt</th>\n      <th>yearbuilt</th>\n      <th>taxamount</th>\n      <th>fips</th>\n    </tr>\n  </thead>\n  <tbody>\n    <tr>\n      <th>count</th>\n      <td>2.152852e+06</td>\n      <td>2.152852e+06</td>\n      <td>2.144379e+06</td>\n      <td>2.152370e+06</td>\n      <td>2.143526e+06</td>\n      <td>2.148421e+06</td>\n      <td>2.152863e+06</td>\n    </tr>\n    <tr>\n      <th>mean</th>\n      <td>3.287196e+00</td>\n      <td>2.230688e+00</td>\n      <td>1.862855e+03</td>\n      <td>4.618962e+05</td>\n      <td>1.960950e+03</td>\n      <td>5.634866e+03</td>\n      <td>6.048377e+03</td>\n    </tr>\n    <tr>\n      <th>std</th>\n      <td>9.547544e-01</td>\n      <td>9.992796e-01</td>\n      <td>1.222125e+03</td>\n      <td>6.996760e+05</td>\n      <td>2.216220e+01</td>\n      <td>8.178910e+03</td>\n      <td>2.043329e+01</td>\n    </tr>\n    <tr>\n      <th>min</th>\n      <td>0.000000e+00</td>\n      <td>0.000000e+00</td>\n      <td>1.000000e+00</td>\n      <td>1.000000e+00</td>\n      <td>1.801000e+03</td>\n      <td>1.850000e+00</td>\n      <td>6.037000e+03</td>\n    </tr>\n    <tr>\n      <th>25%</th>\n      <td>3.000000e+00</td>\n      <td>2.000000e+00</td>\n      <td>1.257000e+03</td>\n      <td>1.881702e+05</td>\n      <td>1.949000e+03</td>\n      <td>2.534980e+03</td>\n      <td>6.037000e+03</td>\n    </tr>\n    <tr>\n      <th>50%</th>\n      <td>3.000000e+00</td>\n      <td>2.000000e+00</td>\n      <td>1.623000e+03</td>\n      <td>3.276710e+05</td>\n      <td>1.958000e+03</td>\n      <td>4.108950e+03</td>\n      <td>6.037000e+03</td>\n    </tr>\n    <tr>\n      <th>75%</th>\n      <td>4.000000e+00</td>\n      <td>3.000000e+00</td>\n      <td>2.208000e+03</td>\n      <td>5.345270e+05</td>\n      <td>1.976000e+03</td>\n      <td>6.414320e+03</td>\n      <td>6.059000e+03</td>\n    </tr>\n    <tr>\n      <th>max</th>\n      <td>2.500000e+01</td>\n      <td>3.200000e+01</td>\n      <td>9.525760e+05</td>\n      <td>9.842891e+07</td>\n      <td>2.016000e+03</td>\n      <td>1.337756e+06</td>\n      <td>6.111000e+03</td>\n    </tr>\n  </tbody>\n</table>\n</div>"
     },
     "execution_count": 5,
     "metadata": {},
     "output_type": "execute_result"
    }
   ],
   "source": [
    "df.describe()"
   ],
   "metadata": {
    "collapsed": false,
    "ExecuteTime": {
     "start_time": "2023-05-05T13:26:55.826225Z",
     "end_time": "2023-05-05T13:26:56.245038Z"
    }
   }
  },
  {
   "cell_type": "code",
   "execution_count": 6,
   "outputs": [
    {
     "data": {
      "text/plain": "bedroomcnt                        11\nbathroomcnt                       11\ncalculatedfinishedsquarefeet    8484\ntaxvaluedollarcnt                493\nyearbuilt                       9337\ntaxamount                       4442\nfips                               0\ndtype: int64"
     },
     "execution_count": 6,
     "metadata": {},
     "output_type": "execute_result"
    }
   ],
   "source": [
    "df.isnull().sum()"
   ],
   "metadata": {
    "collapsed": false,
    "ExecuteTime": {
     "start_time": "2023-05-05T13:26:56.245118Z",
     "end_time": "2023-05-05T13:26:56.259146Z"
    }
   }
  },
  {
   "cell_type": "code",
   "execution_count": 7,
   "outputs": [],
   "source": [
    "# drop nulls from df\n",
    "df = df.dropna()"
   ],
   "metadata": {
    "collapsed": false,
    "ExecuteTime": {
     "start_time": "2023-05-05T13:26:56.259500Z",
     "end_time": "2023-05-05T13:26:56.317100Z"
    }
   }
  },
  {
   "cell_type": "code",
   "execution_count": 8,
   "outputs": [
    {
     "data": {
      "text/plain": "bedroomcnt                      0\nbathroomcnt                     0\ncalculatedfinishedsquarefeet    0\ntaxvaluedollarcnt               0\nyearbuilt                       0\ntaxamount                       0\nfips                            0\ndtype: int64"
     },
     "execution_count": 8,
     "metadata": {},
     "output_type": "execute_result"
    }
   ],
   "source": [
    "df.isnull().sum()"
   ],
   "metadata": {
    "collapsed": false,
    "ExecuteTime": {
     "start_time": "2023-05-05T13:26:56.312430Z",
     "end_time": "2023-05-05T13:26:56.331161Z"
    }
   }
  },
  {
   "cell_type": "code",
   "execution_count": 9,
   "outputs": [
    {
     "data": {
      "text/plain": "bedroomcnt                      float64\nbathroomcnt                     float64\ncalculatedfinishedsquarefeet    float64\ntaxvaluedollarcnt               float64\nyearbuilt                       float64\ntaxamount                       float64\nfips                            float64\ndtype: object"
     },
     "execution_count": 9,
     "metadata": {},
     "output_type": "execute_result"
    }
   ],
   "source": [
    "df.dtypes"
   ],
   "metadata": {
    "collapsed": false,
    "ExecuteTime": {
     "start_time": "2023-05-05T13:26:56.330732Z",
     "end_time": "2023-05-05T13:26:56.332659Z"
    }
   }
  },
  {
   "cell_type": "code",
   "execution_count": 10,
   "outputs": [
    {
     "data": {
      "text/plain": "bedroomcnt                      float64\nbathroomcnt                     float64\ncalculatedfinishedsquarefeet    float64\ntaxvaluedollarcnt               float64\nyearbuilt                       float64\ntaxamount                       float64\nfips                            float64\ndtype: object"
     },
     "execution_count": 10,
     "metadata": {},
     "output_type": "execute_result"
    }
   ],
   "source": [
    "df.dtypes"
   ],
   "metadata": {
    "collapsed": false,
    "ExecuteTime": {
     "start_time": "2023-05-05T13:26:56.333517Z",
     "end_time": "2023-05-05T13:26:56.335027Z"
    }
   }
  },
  {
   "cell_type": "code",
   "execution_count": 11,
   "outputs": [
    {
     "name": "stdout",
     "output_type": "stream",
     "text": [
      "bedroomcnt\n",
      "3.0     962944\n",
      "4.0     633608\n",
      "2.0     334221\n",
      "5.0     150671\n",
      "6.0      25117\n",
      "1.0      22895\n",
      "7.0       4792\n",
      "0.0       4397\n",
      "8.0       1103\n",
      "9.0        290\n",
      "10.0       118\n",
      "11.0        34\n",
      "13.0        15\n",
      "12.0        12\n",
      "14.0         7\n",
      "15.0         5\n",
      "18.0         3\n",
      "16.0         2\n",
      "25.0         1\n",
      "Name: bedroomcnt, dtype: int64\n",
      "----------------\n",
      "bathroomcnt\n",
      "2.00     942463\n",
      "3.00     422398\n",
      "1.00     412582\n",
      "2.50     142827\n",
      "4.00      82039\n",
      "1.50      31157\n",
      "3.50      28464\n",
      "5.00      28306\n",
      "4.50      19474\n",
      "6.00      10717\n",
      "5.50       6201\n",
      "7.00       4381\n",
      "0.00       4274\n",
      "8.00       1681\n",
      "6.50       1330\n",
      "9.00        707\n",
      "7.50        382\n",
      "10.00       322\n",
      "11.00       145\n",
      "8.50        108\n",
      "12.00        73\n",
      "9.50         50\n",
      "13.00        39\n",
      "14.00        25\n",
      "15.00        17\n",
      "0.50         16\n",
      "10.50        14\n",
      "16.00        12\n",
      "18.00         8\n",
      "20.00         6\n",
      "17.00         4\n",
      "1.75          3\n",
      "12.50         3\n",
      "11.50         3\n",
      "19.50         1\n",
      "14.50         1\n",
      "32.00         1\n",
      "19.00         1\n",
      "Name: bathroomcnt, dtype: int64\n",
      "----------------\n",
      "calculatedfinishedsquarefeet\n",
      "1200.0     5184\n",
      "1080.0     4376\n",
      "1120.0     4354\n",
      "1400.0     3828\n",
      "1440.0     3684\n",
      "           ... \n",
      "10180.0       1\n",
      "13169.0       1\n",
      "9095.0        1\n",
      "10525.0       1\n",
      "24920.0       1\n",
      "Name: calculatedfinishedsquarefeet, Length: 10557, dtype: int64\n",
      "----------------\n",
      "taxvaluedollarcnt\n",
      "450000.0    820\n",
      "500000.0    774\n",
      "400000.0    723\n",
      "430000.0    690\n",
      "440000.0    683\n",
      "           ... \n",
      "729523.0      1\n",
      "940139.0      1\n",
      "545367.0      1\n",
      "38804.0       1\n",
      "536061.0      1\n",
      "Name: taxvaluedollarcnt, Length: 588178, dtype: int64\n",
      "----------------\n",
      "yearbuilt\n",
      "1955.0    84329\n",
      "1950.0    71606\n",
      "1954.0    69069\n",
      "1953.0    62270\n",
      "1956.0    61858\n",
      "          ...  \n",
      "1855.0        1\n",
      "1879.0        1\n",
      "1833.0        1\n",
      "1840.0        1\n",
      "1874.0        1\n",
      "Name: yearbuilt, Length: 153, dtype: int64\n",
      "----------------\n",
      "taxamount\n",
      "345.72      172\n",
      "344.18       76\n",
      "343.52       74\n",
      "49.18        46\n",
      "388.18       37\n",
      "           ... \n",
      "8191.38       1\n",
      "11627.92      1\n",
      "15008.68      1\n",
      "9227.22       1\n",
      "13494.52      1\n",
      "Name: taxamount, Length: 915868, dtype: int64\n",
      "----------------\n",
      "fips\n",
      "6037.0    1425207\n",
      "6059.0     552057\n",
      "6111.0     162971\n",
      "Name: fips, dtype: int64\n",
      "----------------\n"
     ]
    }
   ],
   "source": [
    "# check value counts for df\n",
    "for i in df.columns:\n",
    "    print(i)\n",
    "    print(df[i].value_counts())\n",
    "    print('----------------')"
   ],
   "metadata": {
    "collapsed": false,
    "ExecuteTime": {
     "start_time": "2023-05-05T13:26:56.367981Z",
     "end_time": "2023-05-05T13:26:56.537387Z"
    }
   }
  },
  {
   "cell_type": "code",
   "execution_count": 12,
   "outputs": [
    {
     "data": {
      "text/plain": "         bedroomcnt  bathroomcnt  calculatedfinishedsquarefeet  \\\n58438           2.0          1.0                           1.0   \n1046787         0.0          0.0                           1.0   \n1276353         1.0          3.0                           1.0   \n1359288         2.0          1.0                           1.0   \n1895866         5.0          5.0                           1.0   \n2017745         3.0          1.0                           1.0   \n\n         taxvaluedollarcnt  yearbuilt  taxamount    fips  \n58438             121376.0     1907.0    1996.35  6037.0  \n1046787            28091.0     1963.0     439.55  6037.0  \n1276353           124906.0     1953.0    2020.66  6037.0  \n1359288           147577.0     1991.0    1855.40  6037.0  \n1895866           563977.0     1997.0    6808.84  6037.0  \n2017745            31800.0     1900.0     870.36  6037.0  ",
      "text/html": "<div>\n<style scoped>\n    .dataframe tbody tr th:only-of-type {\n        vertical-align: middle;\n    }\n\n    .dataframe tbody tr th {\n        vertical-align: top;\n    }\n\n    .dataframe thead th {\n        text-align: right;\n    }\n</style>\n<table border=\"1\" class=\"dataframe\">\n  <thead>\n    <tr style=\"text-align: right;\">\n      <th></th>\n      <th>bedroomcnt</th>\n      <th>bathroomcnt</th>\n      <th>calculatedfinishedsquarefeet</th>\n      <th>taxvaluedollarcnt</th>\n      <th>yearbuilt</th>\n      <th>taxamount</th>\n      <th>fips</th>\n    </tr>\n  </thead>\n  <tbody>\n    <tr>\n      <th>58438</th>\n      <td>2.0</td>\n      <td>1.0</td>\n      <td>1.0</td>\n      <td>121376.0</td>\n      <td>1907.0</td>\n      <td>1996.35</td>\n      <td>6037.0</td>\n    </tr>\n    <tr>\n      <th>1046787</th>\n      <td>0.0</td>\n      <td>0.0</td>\n      <td>1.0</td>\n      <td>28091.0</td>\n      <td>1963.0</td>\n      <td>439.55</td>\n      <td>6037.0</td>\n    </tr>\n    <tr>\n      <th>1276353</th>\n      <td>1.0</td>\n      <td>3.0</td>\n      <td>1.0</td>\n      <td>124906.0</td>\n      <td>1953.0</td>\n      <td>2020.66</td>\n      <td>6037.0</td>\n    </tr>\n    <tr>\n      <th>1359288</th>\n      <td>2.0</td>\n      <td>1.0</td>\n      <td>1.0</td>\n      <td>147577.0</td>\n      <td>1991.0</td>\n      <td>1855.40</td>\n      <td>6037.0</td>\n    </tr>\n    <tr>\n      <th>1895866</th>\n      <td>5.0</td>\n      <td>5.0</td>\n      <td>1.0</td>\n      <td>563977.0</td>\n      <td>1997.0</td>\n      <td>6808.84</td>\n      <td>6037.0</td>\n    </tr>\n    <tr>\n      <th>2017745</th>\n      <td>3.0</td>\n      <td>1.0</td>\n      <td>1.0</td>\n      <td>31800.0</td>\n      <td>1900.0</td>\n      <td>870.36</td>\n      <td>6037.0</td>\n    </tr>\n  </tbody>\n</table>\n</div>"
     },
     "execution_count": 12,
     "metadata": {},
     "output_type": "execute_result"
    }
   ],
   "source": [
    "df[df.calculatedfinishedsquarefeet == 1]"
   ],
   "metadata": {
    "collapsed": false,
    "ExecuteTime": {
     "start_time": "2023-05-05T13:26:56.538396Z",
     "end_time": "2023-05-05T13:26:56.543589Z"
    }
   }
  },
  {
   "cell_type": "code",
   "execution_count": 13,
   "outputs": [
    {
     "name": "stdout",
     "output_type": "stream",
     "text": [
      "bedroomcnt\n",
      "3.0     962944\n",
      "4.0     633608\n",
      "2.0     334221\n",
      "5.0     150671\n",
      "6.0      25117\n",
      "1.0      22895\n",
      "7.0       4792\n",
      "0.0       4397\n",
      "8.0       1103\n",
      "9.0        290\n",
      "10.0       118\n",
      "11.0        34\n",
      "13.0        15\n",
      "12.0        12\n",
      "14.0         7\n",
      "15.0         5\n",
      "18.0         3\n",
      "16.0         2\n",
      "25.0         1\n",
      "Name: bedroomcnt, dtype: int64\n",
      "----------------\n",
      "bathroomcnt\n",
      "2.00     942463\n",
      "3.00     422398\n",
      "1.00     412582\n",
      "2.50     142827\n",
      "4.00      82039\n",
      "1.50      31157\n",
      "3.50      28464\n",
      "5.00      28306\n",
      "4.50      19474\n",
      "6.00      10717\n",
      "5.50       6201\n",
      "7.00       4381\n",
      "0.00       4274\n",
      "8.00       1681\n",
      "6.50       1330\n",
      "9.00        707\n",
      "7.50        382\n",
      "10.00       322\n",
      "11.00       145\n",
      "8.50        108\n",
      "12.00        73\n",
      "9.50         50\n",
      "13.00        39\n",
      "14.00        25\n",
      "15.00        17\n",
      "0.50         16\n",
      "10.50        14\n",
      "16.00        12\n",
      "18.00         8\n",
      "20.00         6\n",
      "17.00         4\n",
      "1.75          3\n",
      "12.50         3\n",
      "11.50         3\n",
      "19.50         1\n",
      "14.50         1\n",
      "32.00         1\n",
      "19.00         1\n",
      "Name: bathroomcnt, dtype: int64\n",
      "----------------\n",
      "calculatedfinishedsquarefeet\n",
      "1200.0     5184\n",
      "1080.0     4376\n",
      "1120.0     4354\n",
      "1400.0     3828\n",
      "1440.0     3684\n",
      "           ... \n",
      "10180.0       1\n",
      "13169.0       1\n",
      "9095.0        1\n",
      "10525.0       1\n",
      "24920.0       1\n",
      "Name: calculatedfinishedsquarefeet, Length: 10557, dtype: int64\n",
      "----------------\n",
      "taxvaluedollarcnt\n",
      "450000.0    820\n",
      "500000.0    774\n",
      "400000.0    723\n",
      "430000.0    690\n",
      "440000.0    683\n",
      "           ... \n",
      "729523.0      1\n",
      "940139.0      1\n",
      "545367.0      1\n",
      "38804.0       1\n",
      "536061.0      1\n",
      "Name: taxvaluedollarcnt, Length: 588178, dtype: int64\n",
      "----------------\n",
      "yearbuilt\n",
      "1955.0    84329\n",
      "1950.0    71606\n",
      "1954.0    69069\n",
      "1953.0    62270\n",
      "1956.0    61858\n",
      "          ...  \n",
      "1855.0        1\n",
      "1879.0        1\n",
      "1833.0        1\n",
      "1840.0        1\n",
      "1874.0        1\n",
      "Name: yearbuilt, Length: 153, dtype: int64\n",
      "----------------\n",
      "taxamount\n",
      "345.72      172\n",
      "344.18       76\n",
      "343.52       74\n",
      "49.18        46\n",
      "388.18       37\n",
      "           ... \n",
      "8191.38       1\n",
      "11627.92      1\n",
      "15008.68      1\n",
      "9227.22       1\n",
      "13494.52      1\n",
      "Name: taxamount, Length: 915868, dtype: int64\n",
      "----------------\n",
      "fips\n",
      "6037.0    1425207\n",
      "6059.0     552057\n",
      "6111.0     162971\n",
      "Name: fips, dtype: int64\n",
      "----------------\n"
     ]
    }
   ],
   "source": [
    "for i in df.columns:\n",
    "    print(i)\n",
    "    print(df[i].value_counts())\n",
    "    print('----------------')"
   ],
   "metadata": {
    "collapsed": false,
    "ExecuteTime": {
     "start_time": "2023-05-05T13:26:56.561227Z",
     "end_time": "2023-05-05T13:26:56.749707Z"
    }
   }
  },
  {
   "cell_type": "code",
   "execution_count": 14,
   "outputs": [
    {
     "data": {
      "text/plain": "count    2.140235e+06\nmean     3.301419e+00\nstd      9.325998e-01\nmin      0.000000e+00\n1%       1.000000e+00\n25%      3.000000e+00\n50%      3.000000e+00\n75%      4.000000e+00\n90%      4.000000e+00\n95%      5.000000e+00\n99%      6.000000e+00\nmax      2.500000e+01\nName: bedroomcnt, dtype: float64"
     },
     "execution_count": 14,
     "metadata": {},
     "output_type": "execute_result"
    }
   ],
   "source": [
    "df.bedroomcnt.describe([0.01,.25, .5, .75, .9, .95, .99])\n",
    "# select  0.01 and 0.99 as outliers\n",
    "\n",
    "\n"
   ],
   "metadata": {
    "collapsed": false,
    "ExecuteTime": {
     "start_time": "2023-05-05T13:26:56.750272Z",
     "end_time": "2023-05-05T13:26:56.801517Z"
    }
   }
  },
  {
   "cell_type": "code",
   "execution_count": 15,
   "outputs": [],
   "source": [
    "# create function to remove outliers\n",
    "def remove_outliers(df, k, col_list):\n",
    "    ''' remove outliers from a list of columns in a dataframe\n",
    "    and return that dataframe with outliers removed'''\n",
    "    for col in col_list:\n",
    "        q1, q3 = df[col].quantile([.25, .75])  # get quartiles\n",
    "        iqr = q3 - q1   # calculate interquartile range\n",
    "        upper_bound = q3 + k * iqr   # get upper bound\n",
    "        lower_bound = q1 - k * iqr   # get lower bound\n",
    "        df = df[(df[col] > lower_bound) & (df[col] < upper_bound)]  # filter dataframe\n",
    "    return df\n"
   ],
   "metadata": {
    "collapsed": false,
    "ExecuteTime": {
     "start_time": "2023-05-05T13:26:56.802354Z",
     "end_time": "2023-05-05T13:26:56.803942Z"
    }
   }
  },
  {
   "cell_type": "code",
   "execution_count": 19,
   "outputs": [
    {
     "data": {
      "text/plain": "         bedroomcnt  bathroomcnt  calculatedfinishedsquarefeet  \\\n4               4.0          2.0                        3633.0   \n6               3.0          4.0                        1620.0   \n7               3.0          2.0                        2077.0   \n11              0.0          0.0                        1200.0   \n14              0.0          0.0                         171.0   \n...             ...          ...                           ...   \n2152856         4.0          4.0                        4375.0   \n2152858         4.0          3.0                        2262.0   \n2152859         4.0          4.5                        3127.0   \n2152861         3.0          2.5                        1974.0   \n2152862         4.0          4.0                        2110.0   \n\n         taxvaluedollarcnt  yearbuilt  taxamount    fips  \n4                 296425.0     2005.0    6941.39  6037.0  \n6                 847770.0     2011.0   10244.94  6037.0  \n7                 646760.0     1926.0    7924.68  6037.0  \n11                  5328.0     1972.0      91.60  6037.0  \n14                  6920.0     1973.0     255.17  6037.0  \n...                    ...        ...        ...     ...  \n2152856           422400.0     2015.0   13877.56  6037.0  \n2152858           960756.0     2015.0   13494.52  6059.0  \n2152859           536061.0     2014.0    6244.16  6059.0  \n2152861           424353.0     2015.0    5302.70  6059.0  \n2152862           554009.0     2014.0    6761.20  6037.0  \n\n[2085290 rows x 7 columns]",
      "text/html": "<div>\n<style scoped>\n    .dataframe tbody tr th:only-of-type {\n        vertical-align: middle;\n    }\n\n    .dataframe tbody tr th {\n        vertical-align: top;\n    }\n\n    .dataframe thead th {\n        text-align: right;\n    }\n</style>\n<table border=\"1\" class=\"dataframe\">\n  <thead>\n    <tr style=\"text-align: right;\">\n      <th></th>\n      <th>bedroomcnt</th>\n      <th>bathroomcnt</th>\n      <th>calculatedfinishedsquarefeet</th>\n      <th>taxvaluedollarcnt</th>\n      <th>yearbuilt</th>\n      <th>taxamount</th>\n      <th>fips</th>\n    </tr>\n  </thead>\n  <tbody>\n    <tr>\n      <th>4</th>\n      <td>4.0</td>\n      <td>2.0</td>\n      <td>3633.0</td>\n      <td>296425.0</td>\n      <td>2005.0</td>\n      <td>6941.39</td>\n      <td>6037.0</td>\n    </tr>\n    <tr>\n      <th>6</th>\n      <td>3.0</td>\n      <td>4.0</td>\n      <td>1620.0</td>\n      <td>847770.0</td>\n      <td>2011.0</td>\n      <td>10244.94</td>\n      <td>6037.0</td>\n    </tr>\n    <tr>\n      <th>7</th>\n      <td>3.0</td>\n      <td>2.0</td>\n      <td>2077.0</td>\n      <td>646760.0</td>\n      <td>1926.0</td>\n      <td>7924.68</td>\n      <td>6037.0</td>\n    </tr>\n    <tr>\n      <th>11</th>\n      <td>0.0</td>\n      <td>0.0</td>\n      <td>1200.0</td>\n      <td>5328.0</td>\n      <td>1972.0</td>\n      <td>91.60</td>\n      <td>6037.0</td>\n    </tr>\n    <tr>\n      <th>14</th>\n      <td>0.0</td>\n      <td>0.0</td>\n      <td>171.0</td>\n      <td>6920.0</td>\n      <td>1973.0</td>\n      <td>255.17</td>\n      <td>6037.0</td>\n    </tr>\n    <tr>\n      <th>...</th>\n      <td>...</td>\n      <td>...</td>\n      <td>...</td>\n      <td>...</td>\n      <td>...</td>\n      <td>...</td>\n      <td>...</td>\n    </tr>\n    <tr>\n      <th>2152856</th>\n      <td>4.0</td>\n      <td>4.0</td>\n      <td>4375.0</td>\n      <td>422400.0</td>\n      <td>2015.0</td>\n      <td>13877.56</td>\n      <td>6037.0</td>\n    </tr>\n    <tr>\n      <th>2152858</th>\n      <td>4.0</td>\n      <td>3.0</td>\n      <td>2262.0</td>\n      <td>960756.0</td>\n      <td>2015.0</td>\n      <td>13494.52</td>\n      <td>6059.0</td>\n    </tr>\n    <tr>\n      <th>2152859</th>\n      <td>4.0</td>\n      <td>4.5</td>\n      <td>3127.0</td>\n      <td>536061.0</td>\n      <td>2014.0</td>\n      <td>6244.16</td>\n      <td>6059.0</td>\n    </tr>\n    <tr>\n      <th>2152861</th>\n      <td>3.0</td>\n      <td>2.5</td>\n      <td>1974.0</td>\n      <td>424353.0</td>\n      <td>2015.0</td>\n      <td>5302.70</td>\n      <td>6059.0</td>\n    </tr>\n    <tr>\n      <th>2152862</th>\n      <td>4.0</td>\n      <td>4.0</td>\n      <td>2110.0</td>\n      <td>554009.0</td>\n      <td>2014.0</td>\n      <td>6761.20</td>\n      <td>6037.0</td>\n    </tr>\n  </tbody>\n</table>\n<p>2085290 rows × 7 columns</p>\n</div>"
     },
     "execution_count": 19,
     "metadata": {},
     "output_type": "execute_result"
    }
   ],
   "source": [
    "col = ['bedroomcnt', 'bathroomcnt', 'calculatedfinishedsquarefeet', 'taxvaluedollarcnt', 'yearbuilt', 'taxamount', 'fips']\n",
    "remove_outliers(df, 4, col)\n"
   ],
   "metadata": {
    "collapsed": false,
    "ExecuteTime": {
     "start_time": "2023-05-05T13:27:49.728993Z",
     "end_time": "2023-05-05T13:27:50.162095Z"
    }
   }
  },
  {
   "cell_type": "code",
   "execution_count": 20,
   "outputs": [
    {
     "data": {
      "text/plain": "<Figure size 1600x300 with 0 Axes>"
     },
     "execution_count": 20,
     "metadata": {},
     "output_type": "execute_result"
    },
    {
     "data": {
      "text/plain": "<Figure size 1600x300 with 0 Axes>"
     },
     "metadata": {},
     "output_type": "display_data"
    }
   ],
   "source": [
    "# make plot to visualize outliers\n",
    "plt.figure(figsize=(16, 3))\n"
   ],
   "metadata": {
    "collapsed": false,
    "ExecuteTime": {
     "start_time": "2023-05-05T13:28:27.357287Z",
     "end_time": "2023-05-05T13:28:27.369081Z"
    }
   }
  },
  {
   "cell_type": "code",
   "execution_count": 24,
   "outputs": [],
   "source": [],
   "metadata": {
    "collapsed": false,
    "ExecuteTime": {
     "start_time": "2023-05-05T13:37:12.974721Z",
     "end_time": "2023-05-05T13:37:12.977379Z"
    }
   }
  },
  {
   "cell_type": "code",
   "execution_count": 24,
   "outputs": [],
   "source": [],
   "metadata": {
    "collapsed": false,
    "ExecuteTime": {
     "start_time": "2023-05-05T13:37:14.170646Z",
     "end_time": "2023-05-05T13:37:14.182575Z"
    }
   }
  },
  {
   "cell_type": "code",
   "execution_count": null,
   "outputs": [],
   "source": [],
   "metadata": {
    "collapsed": false
   }
  }
 ],
 "metadata": {
  "kernelspec": {
   "display_name": "Python 3",
   "language": "python",
   "name": "python3"
  },
  "language_info": {
   "codemirror_mode": {
    "name": "ipython",
    "version": 2
   },
   "file_extension": ".py",
   "mimetype": "text/x-python",
   "name": "python",
   "nbconvert_exporter": "python",
   "pygments_lexer": "ipython2",
   "version": "2.7.6"
  }
 },
 "nbformat": 4,
 "nbformat_minor": 0
}
